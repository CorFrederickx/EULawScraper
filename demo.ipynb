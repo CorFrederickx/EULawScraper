{
 "cells": [
  {
   "cell_type": "code",
   "execution_count": 1,
   "id": "78f02d39",
   "metadata": {},
   "outputs": [],
   "source": [
    "import sys\n",
    "\n",
    "sys.path.append(\"./code\")\n",
    "\n",
    "import main"
   ]
  },
  {
   "cell_type": "code",
   "execution_count": 3,
   "id": "9f017187",
   "metadata": {},
   "outputs": [
    {
     "name": "stdout",
     "output_type": "stream",
     "text": [
      "Available modules:\n",
      "- eurlex\n",
      "- commission\n",
      "- eea\n",
      "- europarl\n"
     ]
    },
    {
     "ename": "TypeError",
     "evalue": "GetAdvancedSearchURL.__init__() got an unexpected keyword argument 'collection'",
     "output_type": "error",
     "traceback": [
      "\u001b[0;31m---------------------------------------------------------------------------\u001b[0m",
      "\u001b[0;31mTypeError\u001b[0m                                 Traceback (most recent call last)",
      "Cell \u001b[0;32mIn[3], line 1\u001b[0m\n\u001b[0;32m----> 1\u001b[0m main\u001b[38;5;241m.\u001b[39mmain()\n",
      "File \u001b[0;32m~/Documents/DIGITAL TEXT ANALYSIS/TEXTUA/11_28 april/EULawScraper/code/main.py:23\u001b[0m, in \u001b[0;36mmain\u001b[0;34m()\u001b[0m\n\u001b[1;32m     20\u001b[0m selected \u001b[38;5;241m=\u001b[39m \u001b[38;5;28minput\u001b[39m(\u001b[38;5;124m\"\u001b[39m\u001b[38;5;124mEnter the module to run: \u001b[39m\u001b[38;5;124m\"\u001b[39m)\u001b[38;5;241m.\u001b[39mstrip()\u001b[38;5;241m.\u001b[39mlower()\n\u001b[1;32m     22\u001b[0m \u001b[38;5;28;01mif\u001b[39;00m selected \u001b[38;5;129;01min\u001b[39;00m choices:\n\u001b[0;32m---> 23\u001b[0m     choices[selected]()\n\u001b[1;32m     24\u001b[0m \u001b[38;5;28;01melse\u001b[39;00m:\n\u001b[1;32m     25\u001b[0m     \u001b[38;5;28mprint\u001b[39m(\u001b[38;5;124m\"\u001b[39m\u001b[38;5;124mInvalid selection.\u001b[39m\u001b[38;5;124m\"\u001b[39m)\n",
      "File \u001b[0;32m~/Documents/DIGITAL TEXT ANALYSIS/TEXTUA/11_28 april/EULawScraper/code/eur_lex/run_eur_lex.py:28\u001b[0m, in \u001b[0;36mscrape_htmls\u001b[0;34m()\u001b[0m\n\u001b[1;32m     14\u001b[0m search_args \u001b[38;5;241m=\u001b[39m {\n\u001b[1;32m     15\u001b[0m     \u001b[38;5;124m'\u001b[39m\u001b[38;5;124mcollection\u001b[39m\u001b[38;5;124m'\u001b[39m: collections,\n\u001b[1;32m     16\u001b[0m     \u001b[38;5;124m'\u001b[39m\u001b[38;5;124mtext\u001b[39m\u001b[38;5;124m'\u001b[39m: text,\n\u001b[1;32m     17\u001b[0m     \u001b[38;5;124m'\u001b[39m\u001b[38;5;124mstart_date\u001b[39m\u001b[38;5;124m'\u001b[39m: start_date,\n\u001b[1;32m     18\u001b[0m     \u001b[38;5;124m'\u001b[39m\u001b[38;5;124mend_date\u001b[39m\u001b[38;5;124m'\u001b[39m: end_date,\n\u001b[1;32m     19\u001b[0m }\n\u001b[1;32m     21\u001b[0m folder_structure \u001b[38;5;241m=\u001b[39m {\n\u001b[1;32m     22\u001b[0m     \u001b[38;5;124m'\u001b[39m\u001b[38;5;124mfolder_path\u001b[39m\u001b[38;5;124m'\u001b[39m: folder_path,\n\u001b[1;32m     23\u001b[0m     \u001b[38;5;124m'\u001b[39m\u001b[38;5;124mmetadata_path\u001b[39m\u001b[38;5;124m'\u001b[39m: metadata_path,\n\u001b[1;32m     24\u001b[0m     \u001b[38;5;124m'\u001b[39m\u001b[38;5;124mfolders\u001b[39m\u001b[38;5;124m'\u001b[39m: [folder_path, metadata_path],\n\u001b[1;32m     25\u001b[0m     \u001b[38;5;124m'\u001b[39m\u001b[38;5;124mfile_mapping\u001b[39m\u001b[38;5;124m'\u001b[39m: {\u001b[38;5;124m\"\u001b[39m\u001b[38;5;124m.html\u001b[39m\u001b[38;5;124m\"\u001b[39m: folder_path, \u001b[38;5;124m\"\u001b[39m\u001b[38;5;124m.json\u001b[39m\u001b[38;5;124m\"\u001b[39m: metadata_path}\n\u001b[1;32m     26\u001b[0m }\n\u001b[0;32m---> 28\u001b[0m BaseScraper\u001b[38;5;241m.\u001b[39mgeneric_scrape(GetAdvancedSearchURL, EurLexScraper, search_args, scrape\u001b[38;5;241m=\u001b[39m\u001b[38;5;28;01mTrue\u001b[39;00m, folder_structure\u001b[38;5;241m=\u001b[39mfolder_structure)\n",
      "File \u001b[0;32m~/Documents/DIGITAL TEXT ANALYSIS/TEXTUA/11_28 april/EULawScraper/code/scraper.py:32\u001b[0m, in \u001b[0;36mBaseScraper.generic_scrape\u001b[0;34m(search_class, scraper_class, search_args, scrape, folder_structure)\u001b[0m\n\u001b[1;32m     30\u001b[0m \u001b[38;5;28;01mdef\u001b[39;00m \u001b[38;5;21mgeneric_scrape\u001b[39m(search_class, scraper_class, search_args, scrape\u001b[38;5;241m=\u001b[39m\u001b[38;5;28;01mTrue\u001b[39;00m, folder_structure\u001b[38;5;241m=\u001b[39m\u001b[38;5;28;01mNone\u001b[39;00m):\n\u001b[0;32m---> 32\u001b[0m     search \u001b[38;5;241m=\u001b[39m search_class(\u001b[38;5;241m*\u001b[39m\u001b[38;5;241m*\u001b[39msearch_args)\n\u001b[1;32m     33\u001b[0m     base_url \u001b[38;5;241m=\u001b[39m search\u001b[38;5;241m.\u001b[39mbuild()\n\u001b[1;32m     34\u001b[0m     \u001b[38;5;28mprint\u001b[39m(\u001b[38;5;124mf\u001b[39m\u001b[38;5;124m\"\u001b[39m\u001b[38;5;124mThe search results page is: \u001b[39m\u001b[38;5;132;01m{\u001b[39;00mbase_url\u001b[38;5;132;01m}\u001b[39;00m\u001b[38;5;124m\"\u001b[39m)\n",
      "\u001b[0;31mTypeError\u001b[0m: GetAdvancedSearchURL.__init__() got an unexpected keyword argument 'collection'"
     ]
    }
   ],
   "source": [
    "main.main()"
   ]
  },
  {
   "cell_type": "code",
   "execution_count": null,
   "id": "f7cce565",
   "metadata": {},
   "outputs": [],
   "source": []
  }
 ],
 "metadata": {
  "language_info": {
   "name": "python"
  }
 },
 "nbformat": 4,
 "nbformat_minor": 5
}
