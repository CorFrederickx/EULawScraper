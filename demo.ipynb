{
 "cells": [
  {
   "cell_type": "code",
   "execution_count": 1,
   "id": "78f02d39",
   "metadata": {},
   "outputs": [],
   "source": [
    "import sys\n",
    "\n",
    "sys.path.append(\"./code\")\n",
    "\n",
    "import main"
   ]
  },
  {
   "cell_type": "code",
   "execution_count": 2,
   "id": "9f017187",
   "metadata": {},
   "outputs": [
    {
     "name": "stdout",
     "output_type": "stream",
     "text": [
      "Available modules:\n",
      "- eurlex\n",
      "- commission\n",
      "- eea\n",
      "- europarl\n",
      "the search results page is: https://www.europarl.europa.eu/thinktank/en/research/advanced-search/pdf?textualSearch=sheep+wool&startDate=13%2F12%2F2024&endDate=13%2F02%2F2025&publicationTypes=STUDY\n",
      "Total pages: 1\n",
      "Processing page: https://www.europarl.europa.eu/thinktank/en/research/advanced-search/pdf?textualSearch=sheep+wool&startDate=13%2F12%2F2024&endDate=13%2F02%2F2025&publicationTypes=STUDY\n",
      "Saved temporary file: /var/folders/7m/clj7j5_92l54rl25p0cxf5540000gn/T/tmpi_hxuvzk.pdf\n",
      "Document URLs: ['https://www.europarl.europa.eu/RegData/etudes/STUD/2024/760273/IPOL_STU(2024)760273_EN.pdf', 'https://www.europarl.europa.eu/RegData/etudes/STUD/2025/754467/EXPO_STU(2025)754467_EN.pdf', 'https://www.europarl.europa.eu/RegData/etudes/STUD/2025/754234/ECTI_STU(2025)754234_EN.pdf', 'https://www.europarl.europa.eu/RegData/etudes/STUD/2025/762853/EPRS_STU(2025)762853_EN.pdf', 'https://www.europarl.europa.eu/RegData/etudes/STUD/2025/762853/EPRS_STU(2025)762853(SUM01)_EN.pdf', 'https://www.europarl.europa.eu/RegData/etudes/STUD/2025/762853/EPRS_STU(2025)762853(ANN01)_EN.pdf', 'https://www.europarl.europa.eu/RegData/etudes/STUD/2025/762853/EPRS_STU(2025)762853(ANN02)_EN.pdf', 'https://www.europarl.europa.eu/RegData/etudes/STUD/2025/754468/EXPO_STU(2025)754468_EN.pdf', 'https://www.europarl.europa.eu/RegData/etudes/STUD/2025/759309/CASP_STU(2025)759309_EN.pdf', 'https://www.europarl.europa.eu/RegData/etudes/STUD/2025/759309/CASP_STU(2025)759309(SUM01)_DE.pdf', 'https://www.europarl.europa.eu/RegData/etudes/STUD/2025/759309/CASP_STU(2025)759309(SUM01)_EN.pdf', 'https://www.europarl.europa.eu/RegData/etudes/STUD/2025/759309/CASP_STU(2025)759309(SUM01)_ES.pdf', 'https://www.europarl.europa.eu/RegData/etudes/STUD/2025/759309/CASP_STU(2025)759309(SUM01)_FR.pdf', 'https://www.europarl.europa.eu/RegData/etudes/STUD/2025/759309/CASP_STU(2025)759309(SUM01)_IT.pdf', 'https://www.europarl.europa.eu/RegData/etudes/STUD/2025/759309/CASP_STU(2025)759309(SUM01)_PL.pdf', 'https://www.europarl.europa.eu/RegData/etudes/STUD/2025/759316/CASP_STU(2025)759316_EN.pdf', 'https://www.europarl.europa.eu/RegData/etudes/STUD/2025/759316/CASP_STU(2025)759316(SUM01)_DE.pdf', 'https://www.europarl.europa.eu/RegData/etudes/STUD/2025/759316/CASP_STU(2025)759316(SUM01)_EN.pdf', 'https://www.europarl.europa.eu/RegData/etudes/STUD/2025/759316/CASP_STU(2025)759316(SUM01)_ES.pdf', 'https://www.europarl.europa.eu/RegData/etudes/STUD/2025/759316/CASP_STU(2025)759316(SUM01)_FR.pdf', 'https://www.europarl.europa.eu/RegData/etudes/STUD/2025/759316/CASP_STU(2025)759316(SUM01)_IT.pdf', 'https://www.europarl.europa.eu/RegData/etudes/STUD/2025/759316/CASP_STU(2025)759316(SUM01)_PL.pdf', 'https://www.europarl.europa.eu/RegData/etudes/STUD/2025/759316/CASP_STU(2025)759316(ANN01)_EN.pdf', 'https://www.europarl.europa.eu/RegData/etudes/STUD/2024/759322/IPOL_STU(2024)759322_EN.pdf', 'https://www.europarl.europa.eu/RegData/etudes/STUD/2024/762858/EPRS_STU(2024)762858_EN.pdf', 'https://www.europarl.europa.eu/RegData/etudes/STUD/2024/767500/IPOL_STU(2024)767500_EN.pdf', 'https://www.europarl.europa.eu/RegData/etudes/STUD/2025/765777/EPRS_STU(2025)765777_EN.pdf']\n",
      "Saved temporary file: /var/folders/7m/clj7j5_92l54rl25p0cxf5540000gn/T/tmphgvtljwq.pdf\n",
      "Metadata saved to metadata_europarl.json\n",
      "Total downloadable documents found: 27\n",
      "Start scraping\n",
      "Skipping duplicate document (ID: STU(2025)759316(SUM01)) - CASP_STU(2025)759316(SUM01)_DE.pdf\n",
      "Skipping duplicate document (ID: STU(2025)759309(SUM01)) - CASP_STU(2025)759309(SUM01)_ES.pdf\n",
      "Skipping duplicate document (ID: STU(2025)759309(SUM01)) - CASP_STU(2025)759309(SUM01)_EN.pdf\n",
      "Skipping duplicate document (ID: STU(2025)759309(SUM01)) - CASP_STU(2025)759309(SUM01)_FR.pdf\n",
      "Skipping duplicate document (ID: STU(2025)759316(SUM01)) - CASP_STU(2025)759316(SUM01)_FR.pdf\n",
      "Skipping duplicate document (ID: STU(2025)759316(SUM01)) - CASP_STU(2025)759316(SUM01)_ES.pdf\n",
      "Skipping duplicate document (ID: STU(2025)759316(SUM01)) - CASP_STU(2025)759316(SUM01)_EN.pdf\n",
      "Skipping duplicate document (ID: STU(2025)759316(SUM01)) - CASP_STU(2025)759316(SUM01)_PL.pdf\n",
      "Skipping duplicate document (ID: STU(2025)759309(SUM01)) - CASP_STU(2025)759309(SUM01)_IT.pdf\n",
      "Skipping duplicate document (ID: STU(2025)759309(SUM01)) - CASP_STU(2025)759309(SUM01)_PL.pdf\n",
      "Scraped files saved in: documents\n"
     ]
    }
   ],
   "source": [
    "main.main()"
   ]
  },
  {
   "cell_type": "code",
   "execution_count": null,
   "id": "f7cce565",
   "metadata": {},
   "outputs": [],
   "source": []
  }
 ],
 "metadata": {
  "kernelspec": {
   "display_name": "base",
   "language": "python",
   "name": "python3"
  },
  "language_info": {
   "codemirror_mode": {
    "name": "ipython",
    "version": 3
   },
   "file_extension": ".py",
   "mimetype": "text/x-python",
   "name": "python",
   "nbconvert_exporter": "python",
   "pygments_lexer": "ipython3",
   "version": "3.12.2"
  }
 },
 "nbformat": 4,
 "nbformat_minor": 5
}
