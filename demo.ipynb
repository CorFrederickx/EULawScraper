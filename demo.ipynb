{
 "cells": [
  {
   "cell_type": "code",
   "execution_count": null,
   "id": "78f02d39",
   "metadata": {},
   "outputs": [],
   "source": [
    "import sys\n",
    "\n",
    "sys.path.append(\"./code\")\n",
    "\n",
    "import main"
   ]
  },
  {
   "cell_type": "code",
   "execution_count": null,
   "id": "9f017187",
   "metadata": {},
   "outputs": [],
   "source": [
    "main.main(log=True)"
   ]
  },
  {
   "cell_type": "code",
   "execution_count": null,
   "id": "3c6bc498",
   "metadata": {},
   "outputs": [],
   "source": [
    "# sanity checks: testing whether code can correctly extract metadata from local search results page (stored in fixtures)\n",
    "\n",
    "import pytest\n",
    "\n",
    "result = pytest.main(['tests/test_eurlex.py', '--maxfail=1', '--disable-warnings', '-q'])\n",
    "#result = pytest.main(['tests/test_european_commission.py', '--maxfail=1', '--disable-warnings', '-q'])\n",
    "#result = pytest.main(['tests/test_european_environment_agency.py', '--maxfail=1', '--disable-warnings', '-q'])\n",
    "#result = pytest.main(['tests/test_europarl.py', '--maxfail=1', '--disable-warnings', '-q'])\n",
    "\n",
    "print(f\"Exit code: {result}\")"
   ]
  },
  {
   "cell_type": "code",
   "execution_count": null,
   "id": "75ab9bc6",
   "metadata": {},
   "outputs": [],
   "source": []
  }
 ],
 "metadata": {
  "kernelspec": {
   "display_name": "base",
   "language": "python",
   "name": "python3"
  },
  "language_info": {
   "codemirror_mode": {
    "name": "ipython",
    "version": 3
   },
   "file_extension": ".py",
   "mimetype": "text/x-python",
   "name": "python",
   "nbconvert_exporter": "python",
   "pygments_lexer": "ipython3",
   "version": "3.12.2"
  }
 },
 "nbformat": 4,
 "nbformat_minor": 5
}
