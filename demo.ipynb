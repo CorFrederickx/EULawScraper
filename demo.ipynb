{
 "cells": [
  {
   "cell_type": "code",
   "execution_count": 1,
   "id": "78f02d39",
   "metadata": {},
   "outputs": [],
   "source": [
    "import sys\n",
    "\n",
    "sys.path.append(\"./code\")\n",
    "\n",
    "import main"
   ]
  },
  {
   "cell_type": "code",
   "execution_count": 5,
   "id": "9f017187",
   "metadata": {},
   "outputs": [
    {
     "name": "stdout",
     "output_type": "stream",
     "text": [
      "Available modules:\n",
      "- eurlex\n",
      "- commission\n",
      "- eea\n",
      "- europarl\n"
     ]
    },
    {
     "name": "stderr",
     "output_type": "stream",
     "text": [
      "2025-06-12 17:13:17,119 [INFO] eur_lex.run_eur_lex: the search results page is: https://eur-lex.europa.eu/search.html?&lang=en&type=advanced&SUBDOM_INIT=LEGISLATION&DTS_SUBDOM=LEGISLATION&DTS_DOM=EU_LAW&textScope0=ti-te&andText0=sheep+wool&date0=ALL%3A13122024%7C13022025\n",
      "2025-06-12 17:13:21,090 [INFO] scraper: Total pages: 1\n",
      "2025-06-12 17:13:21,091 [INFO] scraper: Processing page: https://eur-lex.europa.eu/search.html?&lang=en&type=advanced&SUBDOM_INIT=LEGISLATION&DTS_SUBDOM=LEGISLATION&DTS_DOM=EU_LAW&textScope0=ti-te&andText0=sheep+wool&date0=ALL%3A13122024%7C13022025\n",
      "2025-06-12 17:13:22,420 [INFO] scraper: Document URLs: ['https://eur-lex.europa.eu/legal-content/EN/TXT/HTML/?uri=CELEX:32018R0848', 'https://eur-lex.europa.eu/legal-content/EN/TXT/HTML/?uri=CELEX:32025D0537', 'https://eur-lex.europa.eu/legal-content/EN/TXT/HTML/?uri=CELEX:32025D0536', 'https://eur-lex.europa.eu/legal-content/EN/TXT/HTML/?uri=CELEX:32025D0541', 'https://eur-lex.europa.eu/legal-content/EN/TXT/HTML/?uri=CELEX:32024R3103', 'https://eur-lex.europa.eu/legal-content/EN/TXT/HTML/?uri=CELEX:32022R2499', 'https://eur-lex.europa.eu/legal-content/EN/TXT/HTML/?uri=CELEX:32015R0220', 'https://eur-lex.europa.eu/legal-content/EN/TXT/HTML/?uri=CELEX:32024R2522', 'https://eur-lex.europa.eu/legal-content/EN/TXT/HTML/?uri=CELEX:32024R2746', 'https://eur-lex.europa.eu/legal-content/EN/TXT/HTML/?uri=CELEX:32024R3211']\n",
      "2025-06-12 17:13:24,130 [INFO] metadata_schema: Metadata saved to metadata_eurlex.json\n",
      "2025-06-12 17:13:24,130 [INFO] scraper: Total downloadable documents found: 10\n",
      "2025-06-12 17:13:24,131 [INFO] scraper: Start scraping\n",
      "2025-06-12 17:14:00,517 [INFO] eur_lex.run_eur_lex: Scraped files saved in: documents\n"
     ]
    }
   ],
   "source": [
    "main.main(log=True)"
   ]
  },
  {
   "cell_type": "code",
   "execution_count": 2,
   "id": "3c6bc498",
   "metadata": {},
   "outputs": [
    {
     "name": "stdout",
     "output_type": "stream",
     "text": [
      "\u001b[32m.\u001b[0m\u001b[32m                                                                        [100%]\u001b[0m\n",
      "\u001b[32m\u001b[32m\u001b[1m1 passed\u001b[0m\u001b[32m in 0.22s\u001b[0m\u001b[0m\n",
      "Exit code: 0\n"
     ]
    }
   ],
   "source": [
    "# running a test\n",
    "\n",
    "import pytest\n",
    "\n",
    "result = pytest.main(['tests/test_eurlex.py', '--maxfail=1', '--disable-warnings', '-q'])\n",
    "print(f\"Exit code: {result}\")"
   ]
  },
  {
   "cell_type": "code",
   "execution_count": null,
   "id": "75ab9bc6",
   "metadata": {},
   "outputs": [],
   "source": []
  }
 ],
 "metadata": {
  "kernelspec": {
   "display_name": "base",
   "language": "python",
   "name": "python3"
  },
  "language_info": {
   "codemirror_mode": {
    "name": "ipython",
    "version": 3
   },
   "file_extension": ".py",
   "mimetype": "text/x-python",
   "name": "python",
   "nbconvert_exporter": "python",
   "pygments_lexer": "ipython3",
   "version": "3.12.2"
  }
 },
 "nbformat": 4,
 "nbformat_minor": 5
}
