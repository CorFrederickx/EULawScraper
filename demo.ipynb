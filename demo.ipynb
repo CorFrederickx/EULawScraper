{
 "cells": [
  {
   "cell_type": "code",
   "execution_count": 3,
   "id": "78f02d39",
   "metadata": {},
   "outputs": [],
   "source": [
    "import sys\n",
    "\n",
    "sys.path.append(\"./code\")\n",
    "\n",
    "import main"
   ]
  },
  {
   "cell_type": "code",
   "execution_count": 5,
   "id": "9f017187",
   "metadata": {},
   "outputs": [
    {
     "name": "stdout",
     "output_type": "stream",
     "text": [
      "Available modules:\n",
      "- eurlex\n",
      "- commission\n",
      "- eea\n",
      "- europarl\n",
      "the search results page is: https://eur-lex.europa.eu/search.html?&lang=en&type=advanced&SUBDOM_INIT=INTER_AGREE&DTS_SUBDOM=INTER_AGREE&DTS_DOM=EU_LAW&textScope0=ti-te&andText0=sheep+wool&date0=ALL%3A13122024%7C13042025\n",
      "search results: total pages found: 1\n",
      "['https://eur-lex.europa.eu/legal-content/EN/TXT/HTML/?uri=CELEX:22025D0456', 'https://eur-lex.europa.eu/legal-content/EN/TXT/HTML/?uri=CELEX:22024A02953']\n",
      "Total legislation documents found: 2\n",
      "Start scraping \n",
      "Scraped files saved in: document\n"
     ]
    }
   ],
   "source": [
    "main.main()"
   ]
  },
  {
   "cell_type": "code",
   "execution_count": null,
   "id": "f7cce565",
   "metadata": {},
   "outputs": [],
   "source": []
  }
 ],
 "metadata": {
  "kernelspec": {
   "display_name": "base",
   "language": "python",
   "name": "python3"
  },
  "language_info": {
   "codemirror_mode": {
    "name": "ipython",
    "version": 3
   },
   "file_extension": ".py",
   "mimetype": "text/x-python",
   "name": "python",
   "nbconvert_exporter": "python",
   "pygments_lexer": "ipython3",
   "version": "3.12.2"
  }
 },
 "nbformat": 4,
 "nbformat_minor": 5
}
