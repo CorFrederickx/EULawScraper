{
 "cells": [
  {
   "cell_type": "code",
   "execution_count": 1,
   "id": "78f02d39",
   "metadata": {},
   "outputs": [],
   "source": [
    "import sys\n",
    "\n",
    "sys.path.append(\"./code\")\n",
    "\n",
    "import main"
   ]
  },
  {
   "cell_type": "code",
   "execution_count": 2,
   "id": "9f017187",
   "metadata": {},
   "outputs": [
    {
     "name": "stdout",
     "output_type": "stream",
     "text": [
      "Available modules:\n",
      "- eurlex\n",
      "- commission\n",
      "- eea\n",
      "- europarl\n",
      "the search results page is: https://eur-lex.europa.eu/search.html?&lang=en&type=advanced&SUBDOM_INIT=LEGISLATION&DTS_SUBDOM=LEGISLATION&DTS_DOM=EU_LAW&textScope0=ti-te&andText0=sheep+wool&date0=ALL%3A13122024%7C13022025\n",
      "search results: total pages found: 1\n",
      "['https://eur-lex.europa.eu/legal-content/EN/TXT/HTML/?uri=CELEX:32018R0848', 'https://eur-lex.europa.eu/legal-content/EN/TXT/HTML/?uri=CELEX:32025D0537', 'https://eur-lex.europa.eu/legal-content/EN/TXT/HTML/?uri=CELEX:32025D0536', 'https://eur-lex.europa.eu/legal-content/EN/TXT/HTML/?uri=CELEX:32025D0541', 'https://eur-lex.europa.eu/legal-content/EN/TXT/HTML/?uri=CELEX:32024R3103', 'https://eur-lex.europa.eu/legal-content/EN/TXT/HTML/?uri=CELEX:32022R2499', 'https://eur-lex.europa.eu/legal-content/EN/TXT/HTML/?uri=CELEX:32015R0220', 'https://eur-lex.europa.eu/legal-content/EN/TXT/HTML/?uri=CELEX:32024R2522', 'https://eur-lex.europa.eu/legal-content/EN/TXT/HTML/?uri=CELEX:32024R2746', 'https://eur-lex.europa.eu/legal-content/EN/TXT/HTML/?uri=CELEX:32024R3211']\n",
      "Total legislation documents found: 10\n",
      "Start scraping \n",
      "Scraped files saved in: documents\n"
     ]
    }
   ],
   "source": [
    "main.main()"
   ]
  },
  {
   "cell_type": "code",
   "execution_count": null,
   "id": "f7cce565",
   "metadata": {},
   "outputs": [],
   "source": []
  }
 ],
 "metadata": {
  "kernelspec": {
   "display_name": "base",
   "language": "python",
   "name": "python3"
  },
  "language_info": {
   "codemirror_mode": {
    "name": "ipython",
    "version": 3
   },
   "file_extension": ".py",
   "mimetype": "text/x-python",
   "name": "python",
   "nbconvert_exporter": "python",
   "pygments_lexer": "ipython3",
   "version": "3.12.2"
  }
 },
 "nbformat": 4,
 "nbformat_minor": 5
}
